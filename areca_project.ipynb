{
  "nbformat": 4,
  "nbformat_minor": 0,
  "metadata": {
    "colab": {
      "name": "areca_project.ipynb",
      "provenance": [],
      "toc_visible": true,
      "machine_shape": "hm",
      "authorship_tag": "ABX9TyM1PzzUOmlxPUfozv9AEaNP",
      "include_colab_link": true
    },
    "kernelspec": {
      "name": "python3",
      "display_name": "Python 3"
    }
  },
  "cells": [
    {
      "cell_type": "markdown",
      "metadata": {
        "id": "view-in-github",
        "colab_type": "text"
      },
      "source": [
        "<a href=\"https://colab.research.google.com/github/HSSunag/Final-Project/blob/master/areca_project.ipynb\" target=\"_parent\"><img src=\"https://colab.research.google.com/assets/colab-badge.svg\" alt=\"Open In Colab\"/></a>"
      ]
    },
    {
      "cell_type": "code",
      "metadata": {
        "id": "yaXzhF8gTEdA",
        "colab_type": "code",
        "outputId": "118f06df-bf65-47eb-c06e-17136de2a66b",
        "colab": {
          "base_uri": "https://localhost:8080/",
          "height": 122
        }
      },
      "source": [
        "import matplotlib.pyplot as plt\n",
        "import cv2\n",
        "from google.colab import drive\n",
        "\n",
        "# Accessing My Google Drive\n",
        "drive.mount('/content/drive',force_remount=True)"
      ],
      "execution_count": 1,
      "outputs": [
        {
          "output_type": "stream",
          "text": [
            "Go to this URL in a browser: https://accounts.google.com/o/oauth2/auth?client_id=947318989803-6bn6qk8qdgf4n4g3pfee6491hc0brc4i.apps.googleusercontent.com&redirect_uri=urn%3aietf%3awg%3aoauth%3a2.0%3aoob&response_type=code&scope=email%20https%3a%2f%2fwww.googleapis.com%2fauth%2fdocs.test%20https%3a%2f%2fwww.googleapis.com%2fauth%2fdrive%20https%3a%2f%2fwww.googleapis.com%2fauth%2fdrive.photos.readonly%20https%3a%2f%2fwww.googleapis.com%2fauth%2fpeopleapi.readonly\n",
            "\n",
            "Enter your authorization code:\n",
            "··········\n",
            "Mounted at /content/drive\n"
          ],
          "name": "stdout"
        }
      ]
    },
    {
      "cell_type": "code",
      "metadata": {
        "id": "qL6Nvh8reC0A",
        "colab_type": "code",
        "colab": {}
      },
      "source": [
        ""
      ],
      "execution_count": 0,
      "outputs": []
    },
    {
      "cell_type": "code",
      "metadata": {
        "id": "jZU59cynUHzn",
        "colab_type": "code",
        "outputId": "6443cad8-3d03-40ef-8ffc-024024ec0915",
        "colab": {
          "base_uri": "https://localhost:8080/",
          "height": 122
        }
      },
      "source": [
        "\n",
        "import numpy\n",
        "import keras\n",
        "import os\n",
        "import tensorflow as tf\n",
        "\n",
        "\n",
        "def images_to_array(dataset_dir, image_size):\n",
        "    dataset_array = []\n",
        "    dataset_labels = []\n",
        "\n",
        "    class_counter = 0\n",
        "\n",
        "    classes_names = os.listdir(dataset_dir)\n",
        "    for current_class_name in classes_names:\n",
        "        class_dir = os.path.join(dataset_dir, current_class_name)\n",
        "        images_in_class = os.listdir(class_dir)\n",
        "\n",
        "        print(\"Class index\", class_counter, \", \", current_class_name, \":\" , len(images_in_class))\n",
        "\n",
        "        for image_file in images_in_class:\n",
        "            if image_file.endswith(\".jpg\"):\n",
        "              image_file_dir = os.path.join(class_dir, image_file)\n",
        "\n",
        "              img = keras.preprocessing.image.load_img(image_file_dir, target_size=(image_size, image_size))\n",
        "              img_array = keras.preprocessing.image.img_to_array(img)\n",
        "\n",
        "              img_array = img_array/255.0\n",
        "\n",
        "              dataset_array.append(img_array)\n",
        "              dataset_labels.append(class_counter)\n",
        "        class_counter = class_counter + 1\n",
        "    dataset_array = numpy.array(dataset_array)\n",
        "    dataset_labels = numpy.array(dataset_labels)\n",
        "    return dataset_array, dataset_labels\n",
        "\n",
        "\n",
        "\n",
        "train_dir = \"drive/My Drive/Final Datasets\"\n",
        "image_size = 32\n",
        "train_dataset_array, train_dataset_array_labels = images_to_array(dataset_dir=train_dir, image_size=image_size)\n",
        "print(\"Training Data Array Shape :\", train_dataset_array.shape)\n",
        "numpy.save(\"train_dataset_array.npy\", train_dataset_array)\n",
        "numpy.save(\"train_dataset_array_labels.npy\", train_dataset_array_labels)\n",
        "\n",
        "'''test_dir = \"drive/My Drive/DataSet/Testing/test\"\n",
        "test_dataset_array, test_dataset_array_labels = images_to_array(dataset_dir=test_dir, image_size=image_size)\n",
        "print(\"Test Data Array Shape :\", test_dataset_array.shape)\n",
        "numpy.save(\"test_dataset_array.npy\", test_dataset_array)\n",
        "numpy.save(\"test_dataset_array_labels.npy\", test_dataset_array_labels)'''"
      ],
      "execution_count": 38,
      "outputs": [
        {
          "output_type": "stream",
          "text": [
            "Class index 0 ,  Category 1 : 1350\n",
            "Class index 1 ,  Category 2 : 1125\n",
            "Class index 2 ,  Category 3 : 1170\n",
            "Training Data Array Shape : (3645, 32, 32, 3)\n"
          ],
          "name": "stdout"
        },
        {
          "output_type": "execute_result",
          "data": {
            "text/plain": [
              "'test_dir = \"drive/My Drive/DataSet/Testing/test\"\\ntest_dataset_array, test_dataset_array_labels = images_to_array(dataset_dir=test_dir, image_size=image_size)\\nprint(\"Test Data Array Shape :\", test_dataset_array.shape)\\nnumpy.save(\"test_dataset_array.npy\", test_dataset_array)\\nnumpy.save(\"test_dataset_array_labels.npy\", test_dataset_array_labels)'"
            ]
          },
          "metadata": {
            "tags": []
          },
          "execution_count": 38
        }
      ]
    },
    {
      "cell_type": "code",
      "metadata": {
        "id": "Sx7M08ZyqWJV",
        "colab_type": "code",
        "colab": {}
      },
      "source": [
        "from sklearn.utils import shuffle\n",
        "\n",
        "train_dataset_array, train_dataset_array_labels = shuffle(train_dataset_array, train_dataset_array_labels,random_state=0)\n",
        "\n",
        "from keras.utils import to_categorical\n",
        "y_train_one_hot = to_categorical(train_dataset_array_labels)"
      ],
      "execution_count": 0,
      "outputs": []
    },
    {
      "cell_type": "code",
      "metadata": {
        "id": "lli0hET_IFWj",
        "colab_type": "code",
        "colab": {
          "base_uri": "https://localhost:8080/",
          "height": 51
        },
        "outputId": "4d3e95f4-fc76-41f4-9455-dd2b5dde3d5a"
      },
      "source": [
        "print(len(train_dataset_array))\n",
        "print(len(train_dataset_array_labels))"
      ],
      "execution_count": 40,
      "outputs": [
        {
          "output_type": "stream",
          "text": [
            "3645\n",
            "3645\n"
          ],
          "name": "stdout"
        }
      ]
    },
    {
      "cell_type": "code",
      "metadata": {
        "id": "_wm6jjKPmoRy",
        "colab_type": "code",
        "colab": {}
      },
      "source": [
        "from keras.models import Sequential\n",
        "from keras.layers import Dense, Flatten, Conv2D, MaxPooling2D, Dropout\n",
        "model = Sequential()"
      ],
      "execution_count": 0,
      "outputs": []
    },
    {
      "cell_type": "code",
      "metadata": {
        "id": "0_266VFSmqA0",
        "colab_type": "code",
        "colab": {}
      },
      "source": [
        "\n",
        "model.add(Conv2D(32, (5, 5), activation='relu', input_shape=(32 ,32 ,3)))\n",
        "model.add(MaxPooling2D(pool_size=(2, 2)))\n",
        "model.add(Conv2D(64, (5, 5), activation='relu'))\n",
        "model.add(MaxPooling2D(pool_size=(2, 2)))\n",
        "model.add(Flatten())\n",
        "model.add(Dense(1000, activation='relu'))\n",
        "model.add(Dense(3, activation='softmax'))"
      ],
      "execution_count": 0,
      "outputs": []
    },
    {
      "cell_type": "code",
      "metadata": {
        "id": "LHkhafzSm0oN",
        "colab_type": "code",
        "colab": {}
      },
      "source": [
        "model.compile(loss='categorical_crossentropy', \n",
        "              optimizer='adam',\n",
        "              metrics=['accuracy'])"
      ],
      "execution_count": 0,
      "outputs": []
    },
    {
      "cell_type": "code",
      "metadata": {
        "id": "xDsrvUwem1wF",
        "colab_type": "code",
        "outputId": "5232b540-8b57-4580-d2fd-5f38b9eb0242",
        "colab": {
          "base_uri": "https://localhost:8080/",
          "height": 394
        }
      },
      "source": [
        "hist = model.fit(train_dataset_array, y_train_one_hot,\n",
        "           batch_size=10, epochs=10, validation_split=0.10)"
      ],
      "execution_count": 64,
      "outputs": [
        {
          "output_type": "stream",
          "text": [
            "Train on 3280 samples, validate on 365 samples\n",
            "Epoch 1/10\n",
            "3280/3280 [==============================] - 8s 2ms/step - loss: 1.0350 - accuracy: 0.4567 - val_loss: 0.9721 - val_accuracy: 0.5397\n",
            "Epoch 2/10\n",
            "3280/3280 [==============================] - 8s 2ms/step - loss: 0.9112 - accuracy: 0.5677 - val_loss: 0.8674 - val_accuracy: 0.5890\n",
            "Epoch 3/10\n",
            "3280/3280 [==============================] - 8s 2ms/step - loss: 0.7447 - accuracy: 0.6793 - val_loss: 0.7602 - val_accuracy: 0.6630\n",
            "Epoch 4/10\n",
            "3280/3280 [==============================] - 8s 2ms/step - loss: 0.6084 - accuracy: 0.7381 - val_loss: 0.7293 - val_accuracy: 0.7096\n",
            "Epoch 5/10\n",
            "3280/3280 [==============================] - 8s 2ms/step - loss: 0.4971 - accuracy: 0.7909 - val_loss: 0.7221 - val_accuracy: 0.7151\n",
            "Epoch 6/10\n",
            "3280/3280 [==============================] - 8s 2ms/step - loss: 0.3874 - accuracy: 0.8457 - val_loss: 0.7615 - val_accuracy: 0.7288\n",
            "Epoch 7/10\n",
            "3280/3280 [==============================] - 8s 2ms/step - loss: 0.3010 - accuracy: 0.8832 - val_loss: 0.6853 - val_accuracy: 0.7644\n",
            "Epoch 8/10\n",
            "3280/3280 [==============================] - 8s 2ms/step - loss: 0.2163 - accuracy: 0.9101 - val_loss: 0.8695 - val_accuracy: 0.7342\n",
            "Epoch 9/10\n",
            "3280/3280 [==============================] - 8s 2ms/step - loss: 0.1674 - accuracy: 0.9396 - val_loss: 0.8818 - val_accuracy: 0.7589\n",
            "Epoch 10/10\n",
            "3280/3280 [==============================] - 8s 2ms/step - loss: 0.1273 - accuracy: 0.9534 - val_loss: 0.9824 - val_accuracy: 0.7589\n"
          ],
          "name": "stdout"
        }
      ]
    },
    {
      "cell_type": "code",
      "metadata": {
        "id": "W-NW-UFP0teA",
        "colab_type": "code",
        "colab": {
          "base_uri": "https://localhost:8080/",
          "height": 295
        },
        "outputId": "355818b7-9c26-4e75-f957-e8e0d351aca2"
      },
      "source": [
        "plt.plot(hist.history['accuracy'])\n",
        "plt.plot(hist.history['val_accuracy'])\n",
        "plt.title('Model accuracy')\n",
        "plt.ylabel('Accuracy')\n",
        "plt.xlabel('Epoch')\n",
        "plt.legend(['Train', 'Val'], loc='upper left')\n",
        "plt.show()"
      ],
      "execution_count": 65,
      "outputs": [
        {
          "output_type": "display_data",
          "data": {
            "image/png": "[encoded data removed]",
            "text/plain": [
              "<Figure size 432x288 with 1 Axes>"
            ]
          },
          "metadata": {
            "tags": [],
            "needs_background": "light"
          }
        }
      ]
    },
    {
      "cell_type": "code",
      "metadata": {
        "id": "14QUjE4brBcl",
        "colab_type": "code",
        "colab": {
          "base_uri": "https://localhost:8080/",
          "height": 34
        },
        "outputId": "6a0b1986-33e8-490b-fced-acc01ab478b3"
      },
      "source": [
        "print(hist.history['accuracy'])"
      ],
      "execution_count": 67,
      "outputs": [
        {
          "output_type": "stream",
          "text": [
            "[0.45670733, 0.5676829, 0.6792683, 0.73810977, 0.7908537, 0.84573174, 0.8832317, 0.910061, 0.93963414, 0.95335364]\n"
          ],
          "name": "stdout"
        }
      ]
    },
    {
      "cell_type": "code",
      "metadata": {
        "id": "BXqn7cmSrnEi",
        "colab_type": "code",
        "colab": {}
      },
      "source": [
        "model.save('areca4.h5')"
      ],
      "execution_count": 0,
      "outputs": []
    },
    {
      "cell_type": "code",
      "metadata": {
        "id": "Bv2I7EsjUM9i",
        "colab_type": "code",
        "colab": {}
      },
      "source": [
        ""
      ],
      "execution_count": 0,
      "outputs": []
    },
    {
      "cell_type": "code",
      "metadata": {
        "id": "lNslSVW7b4xj",
        "colab_type": "code",
        "colab": {}
      },
      "source": [
        ""
      ],
      "execution_count": 0,
      "outputs": []
    },
    {
      "cell_type": "markdown",
      "metadata": {
        "id": "cUNh9s1SXgLR",
        "colab_type": "text"
      },
      "source": [
        ""
      ]
    },
    {
      "cell_type": "code",
      "metadata": {
        "id": "wd-cnjo3rEsw",
        "colab_type": "code",
        "colab": {}
      },
      "source": [
        ""
      ],
      "execution_count": 0,
      "outputs": []
    },
    {
      "cell_type": "code",
      "metadata": {
        "id": "a7tqWw-wXBZu",
        "colab_type": "code",
        "colab": {}
      },
      "source": [
        ""
      ],
      "execution_count": 0,
      "outputs": []
    },
    {
      "cell_type": "markdown",
      "metadata": {
        "id": "73Y6d9UCPzoY",
        "colab_type": "text"
      },
      "source": [
        ""
      ]
    },
    {
      "cell_type": "code",
      "metadata": {
        "id": "kR2bTHBJPhKL",
        "colab_type": "code",
        "colab": {}
      },
      "source": [
        ""
      ],
      "execution_count": 0,
      "outputs": []
    },
    {
      "cell_type": "code",
      "metadata": {
        "id": "fkgVfQ_XO0yx",
        "colab_type": "code",
        "colab": {}
      },
      "source": [
        ""
      ],
      "execution_count": 0,
      "outputs": []
    },
    {
      "cell_type": "code",
      "metadata": {
        "id": "5rmH3A_DXj39",
        "colab_type": "code",
        "colab": {}
      },
      "source": [
        ""
      ],
      "execution_count": 0,
      "outputs": []
    },
    {
      "cell_type": "code",
      "metadata": {
        "id": "6tluU8l1tSNQ",
        "colab_type": "code",
        "colab": {}
      },
      "source": [
        ""
      ],
      "execution_count": 0,
      "outputs": []
    },
    {
      "cell_type": "code",
      "metadata": {
        "id": "j8eNJUFLtWSw",
        "colab_type": "code",
        "colab": {}
      },
      "source": [
        ""
      ],
      "execution_count": 0,
      "outputs": []
    },
    {
      "cell_type": "code",
      "metadata": {
        "id": "QWRZNXrl1ROk",
        "colab_type": "code",
        "colab": {}
      },
      "source": [
        ""
      ],
      "execution_count": 0,
      "outputs": []
    },
    {
      "cell_type": "code",
      "metadata": {
        "id": "tnOdNj5j2Fsx",
        "colab_type": "code",
        "colab": {}
      },
      "source": [
        ""
      ],
      "execution_count": 0,
      "outputs": []
    }
  ]
}
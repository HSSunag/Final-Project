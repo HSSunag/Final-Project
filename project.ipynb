{
  "nbformat": 4,
  "nbformat_minor": 0,
  "metadata": {
    "colab": {
      "name": "Untitled5.ipynb",
      "provenance": [],
      "toc_visible": true,
      "authorship_tag": "ABX9TyPqBGwQOkyXWrkPlDifQ5rW",
      "include_colab_link": true
    },
    "kernelspec": {
      "name": "python3",
      "display_name": "Python 3"
    }
  },
  "cells": [
    {
      "cell_type": "markdown",
      "metadata": {
        "id": "view-in-github",
        "colab_type": "text"
      },
      "source": [
        "<a href=\"https://colab.research.google.com/github/HSSunag/Final-Project/blob/master/project.ipynb\" target=\"_parent\"><img src=\"https://colab.research.google.com/assets/colab-badge.svg\" alt=\"Open In Colab\"/></a>"
      ]
    },
    {
      "cell_type": "code",
      "metadata": {
        "id": "yaXzhF8gTEdA",
        "colab_type": "code",
        "colab": {
          "base_uri": "https://localhost:8080/",
          "height": 122
        },
        "outputId": "fcd9ff07-cdf9-4c4d-ccb3-df17dc3b4ca0"
      },
      "source": [
        "import matplotlib.pyplot as plt\n",
        "import cv2\n",
        "from google.colab import drive\n",
        "\n",
        "# Accessing My Google Drive\n",
        "drive.mount('/content/drive')"
      ],
      "execution_count": 1,
      "outputs": [
        {
          "output_type": "stream",
          "text": [
            "Go to this URL in a browser: https://accounts.google.com/o/oauth2/auth?client_id=947318989803-6bn6qk8qdgf4n4g3pfee6491hc0brc4i.apps.googleusercontent.com&redirect_uri=urn%3aietf%3awg%3aoauth%3a2.0%3aoob&response_type=code&scope=email%20https%3a%2f%2fwww.googleapis.com%2fauth%2fdocs.test%20https%3a%2f%2fwww.googleapis.com%2fauth%2fdrive%20https%3a%2f%2fwww.googleapis.com%2fauth%2fdrive.photos.readonly%20https%3a%2f%2fwww.googleapis.com%2fauth%2fpeopleapi.readonly\n",
            "\n",
            "Enter your authorization code:\n",
            "··········\n",
            "Mounted at /content/drive\n"
          ],
          "name": "stdout"
        }
      ]
    },
    {
      "cell_type": "code",
      "metadata": {
        "id": "jZU59cynUHzn",
        "colab_type": "code",
        "colab": {
          "base_uri": "https://localhost:8080/",
          "height": 216
        },
        "outputId": "ed3061d1-cdd5-4bec-db8b-a467e5d2196b"
      },
      "source": [
        "import numpy\n",
        "import keras\n",
        "import os\n",
        "import tensorflow as tf\n",
        "\n",
        "dataset_dir=\"drive/My Drive/DataSet/Training/cat\"\n",
        "def images_to_array(dataset_dir, image_size):\n",
        "    dataset_array = []\n",
        "    dataset_labels = []\n",
        "\n",
        "    class_counter = 0\n",
        "\n",
        "    classes_names = os.listdir(dataset_dir)\n",
        "    for current_class_name in classes_names:\n",
        "        class_dir = os.path.join(dataset_dir, current_class_name)\n",
        "        images_in_class = os.listdir(class_dir)\n",
        "\n",
        "        print(\"Class index\", class_counter, \", \", current_class_name, \":\" , len(images_in_class))\n",
        "\n",
        "        for image_file in images_in_class:\n",
        "            if image_file.endswith(\".jpg\"):\n",
        "              image_file_dir = os.path.join(class_dir, image_file)\n",
        "\n",
        "              img = keras.preprocessing.image.load_img(image_file_dir, target_size=(image_size, image_size))\n",
        "              img_array = keras.preprocessing.image.img_to_array(img)\n",
        "\n",
        "              img_array = img_array/255.0\n",
        "\n",
        "              dataset_array.append(img_array)\n",
        "              dataset_labels.append(class_counter)\n",
        "        class_counter = class_counter + 1\n",
        "    dataset_array = numpy.array(dataset_array)\n",
        "    dataset_labels = numpy.array(dataset_labels)\n",
        "    return dataset_array, dataset_labels\n",
        "\n",
        "\n",
        "\n",
        "train_dir = \"drive/My Drive/DataSet/Training/cat\"\n",
        "image_size = 128\n",
        "train_dataset_array, train_dataset_array_labels = images_to_array(dataset_dir=train_dir, image_size=image_size)\n",
        "print(\"Training Data Array Shape :\", train_dataset_array.shape)\n",
        "numpy.save(\"train_dataset_array.npy\", train_dataset_array)\n",
        "numpy.save(\"train_dataset_array_labels.npy\", train_dataset_array_labels)\n",
        "\n",
        "test_dir = \"drive/My Drive/DataSet/Testing/test\"\n",
        "test_dataset_array, test_dataset_array_labels = images_to_array(dataset_dir=test_dir, image_size=image_size)\n",
        "print(\"Test Data Array Shape :\", test_dataset_array.shape)\n",
        "numpy.save(\"test_dataset_array.npy\", test_dataset_array)\n",
        "numpy.save(\"test_dataset_array_labels.npy\", test_dataset_array_labels)"
      ],
      "execution_count": 2,
      "outputs": [
        {
          "output_type": "stream",
          "text": [
            "Using TensorFlow backend.\n"
          ],
          "name": "stderr"
        },
        {
          "output_type": "display_data",
          "data": {
            "text/html": [
              "<p style=\"color: red;\">\n",
              "The default version of TensorFlow in Colab will soon switch to TensorFlow 2.x.<br>\n",
              "We recommend you <a href=\"https://www.tensorflow.org/guide/migrate\" target=\"_blank\">upgrade</a> now \n",
              "or ensure your notebook will continue to use TensorFlow 1.x via the <code>%tensorflow_version 1.x</code> magic:\n",
              "<a href=\"https://colab.research.google.com/notebooks/tensorflow_version.ipynb\" target=\"_blank\">more info</a>.</p>\n"
            ],
            "text/plain": [
              "<IPython.core.display.HTML object>"
            ]
          },
          "metadata": {
            "tags": []
          }
        },
        {
          "output_type": "stream",
          "text": [
            "Class index 0 ,  cat3 : 7\n",
            "Class index 1 ,  cat2 : 7\n",
            "Class index 2 ,  cat1 : 7\n",
            "Training Data Array Shape : (21, 128, 128, 3)\n",
            "Class index 0 ,  tes2 : 3\n",
            "Class index 1 ,  tes1 : 4\n",
            "Class index 2 ,  tes3 : 3\n",
            "Test Data Array Shape : (9, 128, 128, 3)\n"
          ],
          "name": "stdout"
        }
      ]
    },
    {
      "cell_type": "code",
      "metadata": {
        "id": "qYQYbg_YZFFF",
        "colab_type": "code",
        "colab": {}
      },
      "source": [
        "from keras.models import Sequential\n",
        "from keras.layers import Dense, Flatten, Conv2D, MaxPooling2D\n",
        "model = Sequential()"
      ],
      "execution_count": 0,
      "outputs": []
    },
    {
      "cell_type": "code",
      "metadata": {
        "id": "71MwsAkVoGpk",
        "colab_type": "code",
        "colab": {}
      },
      "source": [
        "model.add(Conv2D(128, (5, 5), activation='relu', input_shape=(128,128,3)))\n",
        "model.add(MaxPooling2D(pool_size=(2, 2)))\n",
        "model.add(Conv2D(256, (5, 5), activation='relu'))\n",
        "model.add(MaxPooling2D(pool_size=(2, 2)))\n",
        "model.add(Flatten())\n",
        "model.add(Dense(10, activation='relu'))\n",
        "model.add(Dense(3, activation='softmax')) "
      ],
      "execution_count": 0,
      "outputs": []
    },
    {
      "cell_type": "code",
      "metadata": {
        "id": "S01nl_wfpdhp",
        "colab_type": "code",
        "colab": {}
      },
      "source": [
        "model.compile(loss='categorical_crossentropy', \n",
        "              optimizer='adam',\n",
        "              metrics=['accuracy'])"
      ],
      "execution_count": 0,
      "outputs": []
    },
    {
      "cell_type": "code",
      "metadata": {
        "id": "IiAOgzPqphVH",
        "colab_type": "code",
        "colab": {
          "base_uri": "https://localhost:8080/",
          "height": 343
        },
        "outputId": "05a706d7-829b-48ed-e44b-c95f5ecbe46d"
      },
      "source": [
        "hist = model.fit(train_dataset_array, train_dataset_array_labels,\n",
        "           batch_size=3, epochs=10, validation_split=0.3 )"
      ],
      "execution_count": 42,
      "outputs": [
        {
          "output_type": "error",
          "ename": "ValueError",
          "evalue": "ignored",
          "traceback": [
            "\u001b[0;31m---------------------------------------------------------------------------\u001b[0m",
            "\u001b[0;31mValueError\u001b[0m                                Traceback (most recent call last)",
            "\u001b[0;32m<ipython-input-42-4659563cca64>\u001b[0m in \u001b[0;36m<module>\u001b[0;34m()\u001b[0m\n\u001b[1;32m      1\u001b[0m hist = model.fit(train_dataset_array, train_dataset_array_labels,\n\u001b[0;32m----> 2\u001b[0;31m            batch_size=3, epochs=10, validation_split=0.3 )\n\u001b[0m",
            "\u001b[0;32m/usr/local/lib/python3.6/dist-packages/keras/engine/training.py\u001b[0m in \u001b[0;36mfit\u001b[0;34m(self, x, y, batch_size, epochs, verbose, callbacks, validation_split, validation_data, shuffle, class_weight, sample_weight, initial_epoch, steps_per_epoch, validation_steps, validation_freq, max_queue_size, workers, use_multiprocessing, **kwargs)\u001b[0m\n\u001b[1;32m   1087\u001b[0m             \u001b[0msample_weight\u001b[0m\u001b[0;34m=\u001b[0m\u001b[0msample_weight\u001b[0m\u001b[0;34m,\u001b[0m\u001b[0;34m\u001b[0m\u001b[0;34m\u001b[0m\u001b[0m\n\u001b[1;32m   1088\u001b[0m             \u001b[0mclass_weight\u001b[0m\u001b[0;34m=\u001b[0m\u001b[0mclass_weight\u001b[0m\u001b[0;34m,\u001b[0m\u001b[0;34m\u001b[0m\u001b[0;34m\u001b[0m\u001b[0m\n\u001b[0;32m-> 1089\u001b[0;31m             batch_size=batch_size)\n\u001b[0m\u001b[1;32m   1090\u001b[0m \u001b[0;34m\u001b[0m\u001b[0m\n\u001b[1;32m   1091\u001b[0m         \u001b[0;31m# Prepare validation data.\u001b[0m\u001b[0;34m\u001b[0m\u001b[0;34m\u001b[0m\u001b[0;34m\u001b[0m\u001b[0m\n",
            "\u001b[0;32m/usr/local/lib/python3.6/dist-packages/keras/engine/training.py\u001b[0m in \u001b[0;36m_standardize_user_data\u001b[0;34m(self, x, y, sample_weight, class_weight, check_array_lengths, batch_size)\u001b[0m\n\u001b[1;32m    793\u001b[0m                 \u001b[0mfeed_output_shapes\u001b[0m\u001b[0;34m,\u001b[0m\u001b[0;34m\u001b[0m\u001b[0;34m\u001b[0m\u001b[0m\n\u001b[1;32m    794\u001b[0m                 \u001b[0mcheck_batch_axis\u001b[0m\u001b[0;34m=\u001b[0m\u001b[0;32mFalse\u001b[0m\u001b[0;34m,\u001b[0m  \u001b[0;31m# Don't enforce the batch size.\u001b[0m\u001b[0;34m\u001b[0m\u001b[0;34m\u001b[0m\u001b[0m\n\u001b[0;32m--> 795\u001b[0;31m                 exception_prefix='target')\n\u001b[0m\u001b[1;32m    796\u001b[0m \u001b[0;34m\u001b[0m\u001b[0m\n\u001b[1;32m    797\u001b[0m             \u001b[0;31m# Generate sample-wise weight values given the `sample_weight` and\u001b[0m\u001b[0;34m\u001b[0m\u001b[0;34m\u001b[0m\u001b[0;34m\u001b[0m\u001b[0m\n",
            "\u001b[0;32m/usr/local/lib/python3.6/dist-packages/keras/engine/training_utils.py\u001b[0m in \u001b[0;36mstandardize_input_data\u001b[0;34m(data, names, shapes, check_batch_axis, exception_prefix)\u001b[0m\n\u001b[1;32m    139\u001b[0m                             \u001b[0;34m': expected '\u001b[0m \u001b[0;34m+\u001b[0m \u001b[0mnames\u001b[0m\u001b[0;34m[\u001b[0m\u001b[0mi\u001b[0m\u001b[0;34m]\u001b[0m \u001b[0;34m+\u001b[0m \u001b[0;34m' to have shape '\u001b[0m \u001b[0;34m+\u001b[0m\u001b[0;34m\u001b[0m\u001b[0;34m\u001b[0m\u001b[0m\n\u001b[1;32m    140\u001b[0m                             \u001b[0mstr\u001b[0m\u001b[0;34m(\u001b[0m\u001b[0mshape\u001b[0m\u001b[0;34m)\u001b[0m \u001b[0;34m+\u001b[0m \u001b[0;34m' but got array with shape '\u001b[0m \u001b[0;34m+\u001b[0m\u001b[0;34m\u001b[0m\u001b[0;34m\u001b[0m\u001b[0m\n\u001b[0;32m--> 141\u001b[0;31m                             str(data_shape))\n\u001b[0m\u001b[1;32m    142\u001b[0m     \u001b[0;32mreturn\u001b[0m \u001b[0mdata\u001b[0m\u001b[0;34m\u001b[0m\u001b[0;34m\u001b[0m\u001b[0m\n\u001b[1;32m    143\u001b[0m \u001b[0;34m\u001b[0m\u001b[0m\n",
            "\u001b[0;31mValueError\u001b[0m: Error when checking target: expected dense_10 to have shape (3,) but got array with shape (1,)"
          ]
        }
      ]
    },
    {
      "cell_type": "code",
      "metadata": {
        "id": "IeRrrMN5qDQH",
        "colab_type": "code",
        "colab": {
          "base_uri": "https://localhost:8080/",
          "height": 34
        },
        "outputId": "99d0b4a9-681f-4211-da48-48781dbceb2e"
      },
      "source": [
        "print(train_dataset_array_labels)"
      ],
      "execution_count": 43,
      "outputs": [
        {
          "output_type": "stream",
          "text": [
            "[0 0 0 0 0 0 0 1 1 1 1 1 1 1 2 2 2 2 2 2 2]\n"
          ],
          "name": "stdout"
        }
      ]
    },
    {
      "cell_type": "code",
      "metadata": {
        "id": "Sx7M08ZyqWJV",
        "colab_type": "code",
        "colab": {}
      },
      "source": [
        "from keras.utils import to_categorical\n",
        "y_train_one_hot = to_categorical(train_dataset_array_labels)\n",
        "y_test_one_hot = to_categorical(test_dataset_array_labels)"
      ],
      "execution_count": 0,
      "outputs": []
    },
    {
      "cell_type": "code",
      "metadata": {
        "id": "i1zThNH-qeW8",
        "colab_type": "code",
        "colab": {
          "base_uri": "https://localhost:8080/",
          "height": 717
        },
        "outputId": "07494cac-89c2-4ae3-ef0e-efc9870f850a"
      },
      "source": [
        "hist = model.fit(train_dataset_array, y_train_one_hot,\n",
        "           batch_size=3, epochs=10, validation_split=0.3 )"
      ],
      "execution_count": 45,
      "outputs": [
        {
          "output_type": "stream",
          "text": [
            "WARNING:tensorflow:From /usr/local/lib/python3.6/dist-packages/tensorflow_core/python/ops/math_grad.py:1424: where (from tensorflow.python.ops.array_ops) is deprecated and will be removed in a future version.\n",
            "Instructions for updating:\n",
            "Use tf.where in 2.0, which has the same broadcast rule as np.where\n",
            "WARNING:tensorflow:From /usr/local/lib/python3.6/dist-packages/keras/backend/tensorflow_backend.py:1033: The name tf.assign_add is deprecated. Please use tf.compat.v1.assign_add instead.\n",
            "\n",
            "WARNING:tensorflow:From /usr/local/lib/python3.6/dist-packages/keras/backend/tensorflow_backend.py:1020: The name tf.assign is deprecated. Please use tf.compat.v1.assign instead.\n",
            "\n",
            "WARNING:tensorflow:From /usr/local/lib/python3.6/dist-packages/keras/backend/tensorflow_backend.py:3005: The name tf.Session is deprecated. Please use tf.compat.v1.Session instead.\n",
            "\n",
            "Train on 14 samples, validate on 7 samples\n",
            "Epoch 1/10\n",
            "WARNING:tensorflow:From /usr/local/lib/python3.6/dist-packages/keras/backend/tensorflow_backend.py:190: The name tf.get_default_session is deprecated. Please use tf.compat.v1.get_default_session instead.\n",
            "\n",
            "WARNING:tensorflow:From /usr/local/lib/python3.6/dist-packages/keras/backend/tensorflow_backend.py:197: The name tf.ConfigProto is deprecated. Please use tf.compat.v1.ConfigProto instead.\n",
            "\n",
            "WARNING:tensorflow:From /usr/local/lib/python3.6/dist-packages/keras/backend/tensorflow_backend.py:207: The name tf.global_variables is deprecated. Please use tf.compat.v1.global_variables instead.\n",
            "\n",
            "WARNING:tensorflow:From /usr/local/lib/python3.6/dist-packages/keras/backend/tensorflow_backend.py:216: The name tf.is_variable_initialized is deprecated. Please use tf.compat.v1.is_variable_initialized instead.\n",
            "\n",
            "WARNING:tensorflow:From /usr/local/lib/python3.6/dist-packages/keras/backend/tensorflow_backend.py:223: The name tf.variables_initializer is deprecated. Please use tf.compat.v1.variables_initializer instead.\n",
            "\n",
            "14/14 [==============================] - 8s 550ms/step - loss: 1.2261 - acc: 0.5000 - val_loss: 2.4883 - val_acc: 0.0000e+00\n",
            "Epoch 2/10\n",
            "14/14 [==============================] - 6s 427ms/step - loss: 0.7617 - acc: 0.5000 - val_loss: 5.1136 - val_acc: 0.0000e+00\n",
            "Epoch 3/10\n",
            "14/14 [==============================] - 6s 423ms/step - loss: 0.6835 - acc: 0.5000 - val_loss: 6.1564 - val_acc: 0.0000e+00\n",
            "Epoch 4/10\n",
            "14/14 [==============================] - 6s 424ms/step - loss: 0.4884 - acc: 0.7143 - val_loss: 14.6872 - val_acc: 0.0000e+00\n",
            "Epoch 5/10\n",
            "14/14 [==============================] - 6s 424ms/step - loss: 1.1992 - acc: 0.7143 - val_loss: 10.3600 - val_acc: 0.0000e+00\n",
            "Epoch 6/10\n",
            "14/14 [==============================] - 6s 417ms/step - loss: 0.5673 - acc: 0.7143 - val_loss: 3.9457 - val_acc: 0.0000e+00\n",
            "Epoch 7/10\n",
            "14/14 [==============================] - 6s 419ms/step - loss: 0.2908 - acc: 1.0000 - val_loss: 13.3129 - val_acc: 0.0000e+00\n",
            "Epoch 8/10\n",
            "14/14 [==============================] - 6s 417ms/step - loss: 0.1251 - acc: 0.9286 - val_loss: 16.1181 - val_acc: 0.0000e+00\n",
            "Epoch 9/10\n",
            "14/14 [==============================] - 6s 426ms/step - loss: 0.4040 - acc: 0.8571 - val_loss: 16.1181 - val_acc: 0.0000e+00\n",
            "Epoch 10/10\n",
            "14/14 [==============================] - 6s 426ms/step - loss: 0.5035 - acc: 0.7857 - val_loss: 16.1181 - val_acc: 0.0000e+00\n"
          ],
          "name": "stdout"
        }
      ]
    },
    {
      "cell_type": "code",
      "metadata": {
        "id": "14QUjE4brBcl",
        "colab_type": "code",
        "colab": {
          "base_uri": "https://localhost:8080/",
          "height": 51
        },
        "outputId": "f7dfabe2-ad29-4ae8-a8e2-5ab47f9fc2be"
      },
      "source": [
        "model.evaluate(test_dataset_array, y_test_one_hot)"
      ],
      "execution_count": 46,
      "outputs": [
        {
          "output_type": "stream",
          "text": [
            "\r9/9 [==============================] - 1s 102ms/step\n"
          ],
          "name": "stdout"
        },
        {
          "output_type": "execute_result",
          "data": {
            "text/plain": [
              "[6.437524795532227, 0.3333333432674408]"
            ]
          },
          "metadata": {
            "tags": []
          },
          "execution_count": 46
        }
      ]
    },
    {
      "cell_type": "code",
      "metadata": {
        "id": "mPjvvbqHrJcX",
        "colab_type": "code",
        "colab": {
          "base_uri": "https://localhost:8080/",
          "height": 295
        },
        "outputId": "79f1eec6-f884-4cd9-9773-a7572d8f7ebf"
      },
      "source": [
        "#Visualize the models accuracy\n",
        "plt.plot(hist.history['acc'])\n",
        "plt.plot(hist.history['val_acc'])\n",
        "plt.title('Model accuracy')\n",
        "plt.ylabel('Accuracy')\n",
        "plt.xlabel('Epoch')\n",
        "plt.legend(['Train', 'Val'], loc='upper left')\n",
        "plt.show()"
      ],
      "execution_count": 47,
      "outputs": [
        {
          "output_type": "display_data",
          "data": {
            "image/png": "[encoded data removed]",
            "text/plain": [
              "<Figure size 432x288 with 1 Axes>"
            ]
          },
          "metadata": {
            "tags": []
          }
        }
      ]
    },
    {
      "cell_type": "code",
      "metadata": {
        "id": "BXqn7cmSrnEi",
        "colab_type": "code",
        "colab": {
          "base_uri": "https://localhost:8080/",
          "height": 54
        },
        "outputId": "07b92ed9-34c9-433c-a6e2-e59147c35dbb"
      },
      "source": [
        "print(hist.history['acc'])"
      ],
      "execution_count": 48,
      "outputs": [
        {
          "output_type": "stream",
          "text": [
            "[0.5000000127724239, 0.5000000127724239, 0.5000000127724239, 0.7142857249294009, 0.7142857142857143, 0.7142857185431889, 1.0, 0.9285714328289032, 0.8571428614003318, 0.7857142921004977]\n"
          ],
          "name": "stdout"
        }
      ]
    }
  ]
}
{
  "nbformat": 4,
  "nbformat_minor": 0,
  "metadata": {
    "colab": {
      "name": "project2.ipynb",
      "provenance": [],
      "toc_visible": true,
      "machine_shape": "hm",
      "authorship_tag": "ABX9TyNq+bkAuitQT2Y4Xn9Sx5cQ",
      "include_colab_link": true
    },
    "kernelspec": {
      "name": "python3",
      "display_name": "Python 3"
    }
  },
  "cells": [
    {
      "cell_type": "markdown",
      "metadata": {
        "id": "view-in-github",
        "colab_type": "text"
      },
      "source": [
        "<a href=\"https://colab.research.google.com/github/HSSunag/Final-Project/blob/master/project2.ipynb\" target=\"_parent\"><img src=\"https://colab.research.google.com/assets/colab-badge.svg\" alt=\"Open In Colab\"/></a>"
      ]
    },
    {
      "cell_type": "code",
      "metadata": {
        "id": "yaXzhF8gTEdA",
        "colab_type": "code",
        "outputId": "9df0dc23-7a1b-43b7-ed13-1d4328847b0d",
        "colab": {
          "base_uri": "https://localhost:8080/",
          "height": 122
        }
      },
      "source": [
        "import matplotlib.pyplot as plt\n",
        "import cv2\n",
        "from google.colab import drive\n",
        "\n",
        "# Accessing My Google Drive\n",
        "drive.mount('/content/drive')"
      ],
      "execution_count": 1,
      "outputs": [
        {
          "output_type": "stream",
          "text": [
            "Go to this URL in a browser: https://accounts.google.com/o/oauth2/auth?client_id=947318989803-6bn6qk8qdgf4n4g3pfee6491hc0brc4i.apps.googleusercontent.com&redirect_uri=urn%3aietf%3awg%3aoauth%3a2.0%3aoob&response_type=code&scope=email%20https%3a%2f%2fwww.googleapis.com%2fauth%2fdocs.test%20https%3a%2f%2fwww.googleapis.com%2fauth%2fdrive%20https%3a%2f%2fwww.googleapis.com%2fauth%2fdrive.photos.readonly%20https%3a%2f%2fwww.googleapis.com%2fauth%2fpeopleapi.readonly\n",
            "\n",
            "Enter your authorization code:\n",
            "··········\n",
            "Mounted at /content/drive\n"
          ],
          "name": "stdout"
        }
      ]
    },
    {
      "cell_type": "code",
      "metadata": {
        "id": "jZU59cynUHzn",
        "colab_type": "code",
        "outputId": "f60292cf-4a3c-43b4-c3ef-d8e1f3fbd47f",
        "colab": {
          "base_uri": "https://localhost:8080/",
          "height": 185
        }
      },
      "source": [
        "import numpy\n",
        "import keras\n",
        "import os\n",
        "import tensorflow as tf\n",
        "\n",
        "dataset_dir=\"drive/My Drive/DataSet/Training/cat\"\n",
        "def images_to_array(dataset_dir, image_size):\n",
        "    dataset_array = []\n",
        "    dataset_labels = []\n",
        "\n",
        "    class_counter = 0\n",
        "\n",
        "    classes_names = os.listdir(dataset_dir)\n",
        "    for current_class_name in classes_names:\n",
        "        class_dir = os.path.join(dataset_dir, current_class_name)\n",
        "        images_in_class = os.listdir(class_dir)\n",
        "\n",
        "        print(\"Class index\", class_counter, \", \", current_class_name, \":\" , len(images_in_class))\n",
        "\n",
        "        for image_file in images_in_class:\n",
        "            if image_file.endswith(\".jpg\"):\n",
        "              image_file_dir = os.path.join(class_dir, image_file)\n",
        "\n",
        "              img = keras.preprocessing.image.load_img(image_file_dir, target_size=(image_size, image_size))\n",
        "              img_array = keras.preprocessing.image.img_to_array(img)\n",
        "\n",
        "              img_array = img_array/255.0\n",
        "\n",
        "              dataset_array.append(img_array)\n",
        "              dataset_labels.append(class_counter)\n",
        "        class_counter = class_counter + 1\n",
        "    dataset_array = numpy.array(dataset_array)\n",
        "    dataset_labels = numpy.array(dataset_labels)\n",
        "    return dataset_array, dataset_labels\n",
        "\n",
        "\n",
        "\n",
        "train_dir = \"drive/My Drive/Datasets\"\n",
        "image_size = 128\n",
        "train_dataset_array, train_dataset_array_labels = images_to_array(dataset_dir=train_dir, image_size=image_size)\n",
        "print(\"Training Data Array Shape :\", train_dataset_array.shape)\n",
        "numpy.save(\"train_dataset_array.npy\", train_dataset_array)\n",
        "numpy.save(\"train_dataset_array_labels.npy\", train_dataset_array_labels)\n",
        "\n",
        "'''test_dir = \"drive/My Drive/DataSet/Testing/test\"\n",
        "test_dataset_array, test_dataset_array_labels = images_to_array(dataset_dir=test_dir, image_size=image_size)\n",
        "print(\"Test Data Array Shape :\", test_dataset_array.shape)\n",
        "numpy.save(\"test_dataset_array.npy\", test_dataset_array)\n",
        "numpy.save(\"test_dataset_array_labels.npy\", test_dataset_array_labels)'''"
      ],
      "execution_count": 2,
      "outputs": [
        {
          "output_type": "stream",
          "text": [
            "Using TensorFlow backend.\n"
          ],
          "name": "stderr"
        },
        {
          "output_type": "display_data",
          "data": {
            "text/html": [
              "<p style=\"color: red;\">\n",
              "The default version of TensorFlow in Colab will soon switch to TensorFlow 2.x.<br>\n",
              "We recommend you <a href=\"https://www.tensorflow.org/guide/migrate\" target=\"_blank\">upgrade</a> now \n",
              "or ensure your notebook will continue to use TensorFlow 1.x via the <code>%tensorflow_version 1.x</code> magic:\n",
              "<a href=\"https://colab.research.google.com/notebooks/tensorflow_version.ipynb\" target=\"_blank\">more info</a>.</p>\n"
            ],
            "text/plain": [
              "<IPython.core.display.HTML object>"
            ]
          },
          "metadata": {
            "tags": []
          }
        },
        {
          "output_type": "stream",
          "text": [
            "Class index 0 ,  Category 1 : 195\n",
            "Class index 1 ,  Category 2 : 150\n",
            "Class index 2 ,  Category 3 : 161\n",
            "Training Data Array Shape : (506, 128, 128, 3)\n"
          ],
          "name": "stdout"
        },
        {
          "output_type": "execute_result",
          "data": {
            "text/plain": [
              "'test_dir = \"drive/My Drive/DataSet/Testing/test\"\\ntest_dataset_array, test_dataset_array_labels = images_to_array(dataset_dir=test_dir, image_size=image_size)\\nprint(\"Test Data Array Shape :\", test_dataset_array.shape)\\nnumpy.save(\"test_dataset_array.npy\", test_dataset_array)\\nnumpy.save(\"test_dataset_array_labels.npy\", test_dataset_array_labels)'"
            ]
          },
          "metadata": {
            "tags": []
          },
          "execution_count": 2
        }
      ]
    },
    {
      "cell_type": "code",
      "metadata": {
        "id": "qYQYbg_YZFFF",
        "colab_type": "code",
        "colab": {
          "base_uri": "https://localhost:8080/",
          "height": 71
        },
        "outputId": "002c72de-be3c-45b7-b348-68f861e20a8e"
      },
      "source": [
        "from keras.models import Sequential\n",
        "from keras.layers import Dense, Flatten, Conv2D, MaxPooling2D\n",
        "model = Sequential()"
      ],
      "execution_count": 3,
      "outputs": [
        {
          "output_type": "stream",
          "text": [
            "WARNING:tensorflow:From /usr/local/lib/python3.6/dist-packages/keras/backend/tensorflow_backend.py:66: The name tf.get_default_graph is deprecated. Please use tf.compat.v1.get_default_graph instead.\n",
            "\n"
          ],
          "name": "stdout"
        }
      ]
    },
    {
      "cell_type": "code",
      "metadata": {
        "id": "71MwsAkVoGpk",
        "colab_type": "code",
        "colab": {
          "base_uri": "https://localhost:8080/",
          "height": 139
        },
        "outputId": "f5e93e53-1d07-4428-c86e-29ee7183c3e4"
      },
      "source": [
        "model.add(Conv2D(32, (5, 5), activation='relu', input_shape=(128,128,3)))\n",
        "model.add(MaxPooling2D(pool_size=(2, 2)))\n",
        "model.add(Conv2D(64, (5, 5), activation='relu'))\n",
        "model.add(MaxPooling2D(pool_size=(2, 2)))\n",
        "model.add(Flatten())\n",
        "model.add(Dense(1000, activation='relu'))\n",
        "model.add(Dense(3, activation='softmax')) "
      ],
      "execution_count": 4,
      "outputs": [
        {
          "output_type": "stream",
          "text": [
            "WARNING:tensorflow:From /usr/local/lib/python3.6/dist-packages/keras/backend/tensorflow_backend.py:541: The name tf.placeholder is deprecated. Please use tf.compat.v1.placeholder instead.\n",
            "\n",
            "WARNING:tensorflow:From /usr/local/lib/python3.6/dist-packages/keras/backend/tensorflow_backend.py:4432: The name tf.random_uniform is deprecated. Please use tf.random.uniform instead.\n",
            "\n",
            "WARNING:tensorflow:From /usr/local/lib/python3.6/dist-packages/keras/backend/tensorflow_backend.py:4267: The name tf.nn.max_pool is deprecated. Please use tf.nn.max_pool2d instead.\n",
            "\n"
          ],
          "name": "stdout"
        }
      ]
    },
    {
      "cell_type": "code",
      "metadata": {
        "id": "S01nl_wfpdhp",
        "colab_type": "code",
        "colab": {
          "base_uri": "https://localhost:8080/",
          "height": 105
        },
        "outputId": "b3ba5e2b-e1b5-40db-82f9-cabf98c2d3e2"
      },
      "source": [
        "model.compile(loss='categorical_crossentropy', \n",
        "              optimizer='adam',\n",
        "              metrics=['accuracy'])"
      ],
      "execution_count": 5,
      "outputs": [
        {
          "output_type": "stream",
          "text": [
            "WARNING:tensorflow:From /usr/local/lib/python3.6/dist-packages/keras/optimizers.py:793: The name tf.train.Optimizer is deprecated. Please use tf.compat.v1.train.Optimizer instead.\n",
            "\n",
            "WARNING:tensorflow:From /usr/local/lib/python3.6/dist-packages/keras/backend/tensorflow_backend.py:3576: The name tf.log is deprecated. Please use tf.math.log instead.\n",
            "\n"
          ],
          "name": "stdout"
        }
      ]
    },
    {
      "cell_type": "code",
      "metadata": {
        "id": "Sx7M08ZyqWJV",
        "colab_type": "code",
        "colab": {}
      },
      "source": [
        "\n",
        "from sklearn.model_selection import train_test_split\n",
        "\n",
        "train_dataset_array,  test_dataset_array, train_dataset_array_labels,test_dataset_array_labels=train_test_split(train_dataset_array,train_dataset_array_labels,test_size=0.33,shuffle=True)\n",
        "\n",
        "from keras.utils import to_categorical\n",
        "y_train_one_hot = to_categorical(train_dataset_array_labels)\n",
        "y_test_one_hot = to_categorical(test_dataset_array_labels)"
      ],
      "execution_count": 0,
      "outputs": []
    },
    {
      "cell_type": "code",
      "metadata": {
        "id": "TBbk_qK1JCju",
        "colab_type": "code",
        "outputId": "c56ba886-c854-45d5-fa71-cb74633416b4",
        "colab": {
          "base_uri": "https://localhost:8080/",
          "height": 85
        }
      },
      "source": [
        "print(len(test_dataset_array))\n",
        "print(len(test_dataset_array_labels))\n",
        "print(len(train_dataset_array))\n",
        "print(len(train_dataset_array_labels))"
      ],
      "execution_count": 7,
      "outputs": [
        {
          "output_type": "stream",
          "text": [
            "167\n",
            "167\n",
            "339\n",
            "339\n"
          ],
          "name": "stdout"
        }
      ]
    },
    {
      "cell_type": "code",
      "metadata": {
        "id": "i1zThNH-qeW8",
        "colab_type": "code",
        "outputId": "01297809-bdc7-4776-ea8b-1618a1bff10b",
        "colab": {
          "base_uri": "https://localhost:8080/",
          "height": 649
        }
      },
      "source": [
        "hist = model.fit(train_dataset_array, y_train_one_hot,\n",
        "           batch_size=10, epochs=8, validation_split=0.25)"
      ],
      "execution_count": 8,
      "outputs": [
        {
          "output_type": "stream",
          "text": [
            "WARNING:tensorflow:From /usr/local/lib/python3.6/dist-packages/tensorflow_core/python/ops/math_grad.py:1424: where (from tensorflow.python.ops.array_ops) is deprecated and will be removed in a future version.\n",
            "Instructions for updating:\n",
            "Use tf.where in 2.0, which has the same broadcast rule as np.where\n",
            "WARNING:tensorflow:From /usr/local/lib/python3.6/dist-packages/keras/backend/tensorflow_backend.py:1033: The name tf.assign_add is deprecated. Please use tf.compat.v1.assign_add instead.\n",
            "\n",
            "WARNING:tensorflow:From /usr/local/lib/python3.6/dist-packages/keras/backend/tensorflow_backend.py:1020: The name tf.assign is deprecated. Please use tf.compat.v1.assign instead.\n",
            "\n",
            "WARNING:tensorflow:From /usr/local/lib/python3.6/dist-packages/keras/backend/tensorflow_backend.py:3005: The name tf.Session is deprecated. Please use tf.compat.v1.Session instead.\n",
            "\n",
            "Train on 254 samples, validate on 85 samples\n",
            "Epoch 1/8\n",
            "WARNING:tensorflow:From /usr/local/lib/python3.6/dist-packages/keras/backend/tensorflow_backend.py:190: The name tf.get_default_session is deprecated. Please use tf.compat.v1.get_default_session instead.\n",
            "\n",
            "WARNING:tensorflow:From /usr/local/lib/python3.6/dist-packages/keras/backend/tensorflow_backend.py:197: The name tf.ConfigProto is deprecated. Please use tf.compat.v1.ConfigProto instead.\n",
            "\n",
            "WARNING:tensorflow:From /usr/local/lib/python3.6/dist-packages/keras/backend/tensorflow_backend.py:207: The name tf.global_variables is deprecated. Please use tf.compat.v1.global_variables instead.\n",
            "\n",
            "WARNING:tensorflow:From /usr/local/lib/python3.6/dist-packages/keras/backend/tensorflow_backend.py:216: The name tf.is_variable_initialized is deprecated. Please use tf.compat.v1.is_variable_initialized instead.\n",
            "\n",
            "WARNING:tensorflow:From /usr/local/lib/python3.6/dist-packages/keras/backend/tensorflow_backend.py:223: The name tf.variables_initializer is deprecated. Please use tf.compat.v1.variables_initializer instead.\n",
            "\n",
            "254/254 [==============================] - 20s 78ms/step - loss: 1.5339 - acc: 0.4252 - val_loss: 1.0344 - val_acc: 0.6471\n",
            "Epoch 2/8\n",
            "254/254 [==============================] - 18s 69ms/step - loss: 0.9401 - acc: 0.6339 - val_loss: 0.8422 - val_acc: 0.5765\n",
            "Epoch 3/8\n",
            "254/254 [==============================] - 18s 69ms/step - loss: 0.7235 - acc: 0.7087 - val_loss: 0.7006 - val_acc: 0.6941\n",
            "Epoch 4/8\n",
            "254/254 [==============================] - 17s 69ms/step - loss: 0.5630 - acc: 0.7598 - val_loss: 0.6821 - val_acc: 0.7765\n",
            "Epoch 5/8\n",
            "254/254 [==============================] - 17s 69ms/step - loss: 0.4521 - acc: 0.8268 - val_loss: 0.6407 - val_acc: 0.7294\n",
            "Epoch 6/8\n",
            "254/254 [==============================] - 17s 68ms/step - loss: 0.4339 - acc: 0.8268 - val_loss: 0.4645 - val_acc: 0.8118\n",
            "Epoch 7/8\n",
            "254/254 [==============================] - 17s 68ms/step - loss: 0.3273 - acc: 0.8543 - val_loss: 0.5643 - val_acc: 0.8000\n",
            "Epoch 8/8\n",
            "254/254 [==============================] - 17s 68ms/step - loss: 0.3667 - acc: 0.8504 - val_loss: 0.4867 - val_acc: 0.8118\n"
          ],
          "name": "stdout"
        }
      ]
    },
    {
      "cell_type": "code",
      "metadata": {
        "id": "14QUjE4brBcl",
        "colab_type": "code",
        "outputId": "e51c7b16-f4db-47f6-9a0c-ed3bf11c2bef",
        "colab": {
          "base_uri": "https://localhost:8080/",
          "height": 51
        }
      },
      "source": [
        "model.evaluate(test_dataset_array, y_test_one_hot)"
      ],
      "execution_count": 9,
      "outputs": [
        {
          "output_type": "stream",
          "text": [
            "167/167 [==============================] - 1s 8ms/step\n"
          ],
          "name": "stdout"
        },
        {
          "output_type": "execute_result",
          "data": {
            "text/plain": [
              "[0.5355554428286181, 0.7604790426299958]"
            ]
          },
          "metadata": {
            "tags": []
          },
          "execution_count": 9
        }
      ]
    },
    {
      "cell_type": "code",
      "metadata": {
        "id": "mPjvvbqHrJcX",
        "colab_type": "code",
        "outputId": "ae89cef6-3f04-4f93-ccea-d3ac68e2db31",
        "colab": {
          "base_uri": "https://localhost:8080/",
          "height": 295
        }
      },
      "source": [
        "#Visualize the models accuracy\n",
        "plt.plot(hist.history['acc'])\n",
        "plt.plot(hist.history['val_acc'])\n",
        "plt.title('Model accuracy')\n",
        "plt.ylabel('Accuracy')\n",
        "plt.xlabel('Epoch')\n",
        "plt.legend(['Train', 'Val'], loc='upper left')\n",
        "plt.show()"
      ],
      "execution_count": 10,
      "outputs": [
        {
          "output_type": "display_data",
          "data": {
            "image/png": "[encoded data removed]",
            "text/plain": [
              "<Figure size 432x288 with 1 Axes>"
            ]
          },
          "metadata": {
            "tags": []
          }
        }
      ]
    },
    {
      "cell_type": "code",
      "metadata": {
        "id": "BXqn7cmSrnEi",
        "colab_type": "code",
        "outputId": "69c12817-6030-484c-e9bb-94ce475698b0",
        "colab": {
          "base_uri": "https://localhost:8080/",
          "height": 54
        }
      },
      "source": [
        "print(hist.history['acc'])"
      ],
      "execution_count": 11,
      "outputs": [
        {
          "output_type": "stream",
          "text": [
            "[0.4251968555563078, 0.6338582707671668, 0.7086614192001462, 0.7598425182770556, 0.8267716460340605, 0.8267716507273396, 0.8543307006828428, 0.8503936909315154]\n"
          ],
          "name": "stdout"
        }
      ]
    },
    {
      "cell_type": "code",
      "metadata": {
        "id": "Bv2I7EsjUM9i",
        "colab_type": "code",
        "colab": {
          "base_uri": "https://localhost:8080/",
          "height": 136
        },
        "outputId": "3a3a437c-fed8-4a7c-8611-4d0b470e07b7"
      },
      "source": [
        "print(y_train_one_hot)"
      ],
      "execution_count": 12,
      "outputs": [
        {
          "output_type": "stream",
          "text": [
            "[[1. 0. 0.]\n",
            " [1. 0. 0.]\n",
            " [0. 0. 1.]\n",
            " ...\n",
            " [1. 0. 0.]\n",
            " [0. 0. 1.]\n",
            " [1. 0. 0.]]\n"
          ],
          "name": "stdout"
        }
      ]
    },
    {
      "cell_type": "code",
      "metadata": {
        "id": "lNslSVW7b4xj",
        "colab_type": "code",
        "colab": {
          "base_uri": "https://localhost:8080/",
          "height": 34
        },
        "outputId": "02bff056-49ed-4a9b-e4f9-bed03094144a"
      },
      "source": [
        "hist.history.get('acc')[-1]"
      ],
      "execution_count": 13,
      "outputs": [
        {
          "output_type": "execute_result",
          "data": {
            "text/plain": [
              "0.8503936909315154"
            ]
          },
          "metadata": {
            "tags": []
          },
          "execution_count": 13
        }
      ]
    }
  ]
}
{
  "nbformat": 4,
  "nbformat_minor": 0,
  "metadata": {
    "colab": {
      "name": "project4.ipynb",
      "provenance": [],
      "toc_visible": true,
      "machine_shape": "hm",
      "authorship_tag": "ABX9TyOD83IZm4Km8kG7s6vg+1+Q",
      "include_colab_link": true
    },
    "kernelspec": {
      "name": "python3",
      "display_name": "Python 3"
    }
  },
  "cells": [
    {
      "cell_type": "markdown",
      "metadata": {
        "id": "view-in-github",
        "colab_type": "text"
      },
      "source": [
        "<a href=\"https://colab.research.google.com/github/HSSunag/Final-Project/blob/master/project4.ipynb\" target=\"_parent\"><img src=\"https://colab.research.google.com/assets/colab-badge.svg\" alt=\"Open In Colab\"/></a>"
      ]
    },
    {
      "cell_type": "code",
      "metadata": {
        "id": "yaXzhF8gTEdA",
        "colab_type": "code",
        "outputId": "7d3faaf6-33ca-4391-a416-2653e8abfd76",
        "colab": {
          "base_uri": "https://localhost:8080/",
          "height": 54
        }
      },
      "source": [
        "import matplotlib.pyplot as plt\n",
        "import cv2\n",
        "from google.colab import drive\n",
        "\n",
        "# Accessing My Google Drive\n",
        "drive.mount('/content/drive')"
      ],
      "execution_count": 3,
      "outputs": [
        {
          "output_type": "stream",
          "text": [
            "Drive already mounted at /content/drive; to attempt to forcibly remount, call drive.mount(\"/content/drive\", force_remount=True).\n"
          ],
          "name": "stdout"
        }
      ]
    },
    {
      "cell_type": "code",
      "metadata": {
        "id": "jZU59cynUHzn",
        "colab_type": "code",
        "outputId": "b2a34b35-1ef4-4dbf-fd72-23f8a3b2179c",
        "colab": {
          "base_uri": "https://localhost:8080/",
          "height": 122
        }
      },
      "source": [
        "import numpy\n",
        "import keras\n",
        "import os\n",
        "import tensorflow as tf\n",
        "\n",
        "dataset_dir=\"drive/My Drive/DataSet/Training/cat\"\n",
        "def images_to_array(dataset_dir, image_size):\n",
        "    dataset_array = []\n",
        "    dataset_labels = []\n",
        "\n",
        "    class_counter = 0\n",
        "\n",
        "    classes_names = os.listdir(dataset_dir)\n",
        "    for current_class_name in classes_names:\n",
        "        class_dir = os.path.join(dataset_dir, current_class_name)\n",
        "        images_in_class = os.listdir(class_dir)\n",
        "\n",
        "        print(\"Class index\", class_counter, \", \", current_class_name, \":\" , len(images_in_class))\n",
        "\n",
        "        for image_file in images_in_class:\n",
        "            if image_file.endswith(\".jpg\"):\n",
        "              image_file_dir = os.path.join(class_dir, image_file)\n",
        "\n",
        "              img = keras.preprocessing.image.load_img(image_file_dir, target_size=(image_size, image_size))\n",
        "              img_array = keras.preprocessing.image.img_to_array(img)\n",
        "\n",
        "              img_array = img_array/255.0\n",
        "\n",
        "              dataset_array.append(img_array)\n",
        "              dataset_labels.append(class_counter)\n",
        "        class_counter = class_counter + 1\n",
        "    dataset_array = numpy.array(dataset_array)\n",
        "    dataset_labels = numpy.array(dataset_labels)\n",
        "    return dataset_array, dataset_labels\n",
        "\n",
        "\n",
        "\n",
        "train_dir = \"drive/My Drive/Datasets\"\n",
        "image_size = 32\n",
        "train_dataset_array, train_dataset_array_labels = images_to_array(dataset_dir=train_dir, image_size=image_size)\n",
        "print(\"Training Data Array Shape :\", train_dataset_array.shape)\n",
        "numpy.save(\"train_dataset_array.npy\", train_dataset_array)\n",
        "numpy.save(\"train_dataset_array_labels.npy\", train_dataset_array_labels)\n",
        "\n",
        "'''test_dir = \"drive/My Drive/DataSet/Testing/test\"\n",
        "test_dataset_array, test_dataset_array_labels = images_to_array(dataset_dir=test_dir, image_size=image_size)\n",
        "print(\"Test Data Array Shape :\", test_dataset_array.shape)\n",
        "numpy.save(\"test_dataset_array.npy\", test_dataset_array)\n",
        "numpy.save(\"test_dataset_array_labels.npy\", test_dataset_array_labels)'''"
      ],
      "execution_count": 4,
      "outputs": [
        {
          "output_type": "stream",
          "text": [
            "Class index 0 ,  Category 1 : 195\n",
            "Class index 1 ,  Category 2 : 150\n",
            "Class index 2 ,  Category 3 : 161\n",
            "Training Data Array Shape : (506, 32, 32, 3)\n"
          ],
          "name": "stdout"
        },
        {
          "output_type": "execute_result",
          "data": {
            "text/plain": [
              "'test_dir = \"drive/My Drive/DataSet/Testing/test\"\\ntest_dataset_array, test_dataset_array_labels = images_to_array(dataset_dir=test_dir, image_size=image_size)\\nprint(\"Test Data Array Shape :\", test_dataset_array.shape)\\nnumpy.save(\"test_dataset_array.npy\", test_dataset_array)\\nnumpy.save(\"test_dataset_array_labels.npy\", test_dataset_array_labels)'"
            ]
          },
          "metadata": {
            "tags": []
          },
          "execution_count": 4
        }
      ]
    },
    {
      "cell_type": "code",
      "metadata": {
        "id": "Sx7M08ZyqWJV",
        "colab_type": "code",
        "colab": {}
      },
      "source": [
        "\n",
        "from sklearn.model_selection import train_test_split\n",
        "\n",
        "train_dataset_array,  test_dataset_array, train_dataset_array_labels,test_dataset_array_labels=train_test_split(train_dataset_array,train_dataset_array_labels,test_size=0.33,shuffle=True)\n",
        "\n",
        "from keras.utils import to_categorical\n",
        "y_train_one_hot = to_categorical(train_dataset_array_labels)\n",
        "y_test_one_hot = to_categorical(test_dataset_array_labels)"
      ],
      "execution_count": 0,
      "outputs": []
    },
    {
      "cell_type": "code",
      "metadata": {
        "id": "TBbk_qK1JCju",
        "colab_type": "code",
        "outputId": "97d847e6-1511-470d-cbf1-6401b11969b5",
        "colab": {
          "base_uri": "https://localhost:8080/",
          "height": 85
        }
      },
      "source": [
        "print(len(test_dataset_array))\n",
        "print(len(test_dataset_array_labels))\n",
        "print(len(train_dataset_array))\n",
        "print(len(train_dataset_array_labels))"
      ],
      "execution_count": 6,
      "outputs": [
        {
          "output_type": "stream",
          "text": [
            "167\n",
            "167\n",
            "339\n",
            "339\n"
          ],
          "name": "stdout"
        }
      ]
    },
    {
      "cell_type": "code",
      "metadata": {
        "id": "_wm6jjKPmoRy",
        "colab_type": "code",
        "colab": {
          "base_uri": "https://localhost:8080/",
          "height": 71
        },
        "outputId": "24eed654-b0bf-4d27-9e9d-e4424f355a40"
      },
      "source": [
        "from keras.models import Sequential\n",
        "from keras.layers import Dense, Flatten, Conv2D, MaxPooling2D\n",
        "model = Sequential()"
      ],
      "execution_count": 7,
      "outputs": [
        {
          "output_type": "stream",
          "text": [
            "WARNING:tensorflow:From /usr/local/lib/python3.6/dist-packages/keras/backend/tensorflow_backend.py:66: The name tf.get_default_graph is deprecated. Please use tf.compat.v1.get_default_graph instead.\n",
            "\n"
          ],
          "name": "stdout"
        }
      ]
    },
    {
      "cell_type": "code",
      "metadata": {
        "id": "0_266VFSmqA0",
        "colab_type": "code",
        "colab": {
          "base_uri": "https://localhost:8080/",
          "height": 139
        },
        "outputId": "d94861be-553f-4188-b0f2-a12383228a67"
      },
      "source": [
        "\n",
        "model.add(Conv2D(32, (5, 5), activation='relu', input_shape=(32,32,3)))\n",
        "model.add(MaxPooling2D(pool_size=(2, 2)))\n",
        "model.add(Conv2D(64, (5, 5), activation='relu'))\n",
        "model.add(MaxPooling2D(pool_size=(2, 2)))\n",
        "model.add(Flatten())\n",
        "model.add(Dense(1000, activation='relu'))\n",
        "model.add(Dense(3, activation='softmax'))"
      ],
      "execution_count": 8,
      "outputs": [
        {
          "output_type": "stream",
          "text": [
            "WARNING:tensorflow:From /usr/local/lib/python3.6/dist-packages/keras/backend/tensorflow_backend.py:541: The name tf.placeholder is deprecated. Please use tf.compat.v1.placeholder instead.\n",
            "\n",
            "WARNING:tensorflow:From /usr/local/lib/python3.6/dist-packages/keras/backend/tensorflow_backend.py:4432: The name tf.random_uniform is deprecated. Please use tf.random.uniform instead.\n",
            "\n",
            "WARNING:tensorflow:From /usr/local/lib/python3.6/dist-packages/keras/backend/tensorflow_backend.py:4267: The name tf.nn.max_pool is deprecated. Please use tf.nn.max_pool2d instead.\n",
            "\n"
          ],
          "name": "stdout"
        }
      ]
    },
    {
      "cell_type": "code",
      "metadata": {
        "id": "LHkhafzSm0oN",
        "colab_type": "code",
        "colab": {
          "base_uri": "https://localhost:8080/",
          "height": 105
        },
        "outputId": "a2c9ef4b-aea2-4099-f77e-b403bdc2208d"
      },
      "source": [
        "model.compile(loss='categorical_crossentropy', \n",
        "              optimizer='adam',\n",
        "              metrics=['accuracy'])"
      ],
      "execution_count": 9,
      "outputs": [
        {
          "output_type": "stream",
          "text": [
            "WARNING:tensorflow:From /usr/local/lib/python3.6/dist-packages/keras/optimizers.py:793: The name tf.train.Optimizer is deprecated. Please use tf.compat.v1.train.Optimizer instead.\n",
            "\n",
            "WARNING:tensorflow:From /usr/local/lib/python3.6/dist-packages/keras/backend/tensorflow_backend.py:3576: The name tf.log is deprecated. Please use tf.math.log instead.\n",
            "\n"
          ],
          "name": "stdout"
        }
      ]
    },
    {
      "cell_type": "code",
      "metadata": {
        "id": "xDsrvUwem1wF",
        "colab_type": "code",
        "outputId": "9be9de16-0f01-4af3-90b1-b98651cabb88",
        "colab": {
          "base_uri": "https://localhost:8080/",
          "height": 306
        }
      },
      "source": [
        "hist = model.fit(train_dataset_array, y_train_one_hot,\n",
        "           batch_size=10, epochs=8, validation_split=0.25)"
      ],
      "execution_count": 19,
      "outputs": [
        {
          "output_type": "stream",
          "text": [
            "Train on 254 samples, validate on 85 samples\n",
            "Epoch 1/8\n",
            "254/254 [==============================] - 1s 3ms/step - loss: 0.4388 - acc: 0.8228 - val_loss: 0.6043 - val_acc: 0.7529\n",
            "Epoch 2/8\n",
            "254/254 [==============================] - 1s 3ms/step - loss: 0.4535 - acc: 0.8150 - val_loss: 0.4811 - val_acc: 0.8000\n",
            "Epoch 3/8\n",
            "254/254 [==============================] - 1s 3ms/step - loss: 0.3782 - acc: 0.8465 - val_loss: 0.4576 - val_acc: 0.8235\n",
            "Epoch 4/8\n",
            "254/254 [==============================] - 1s 3ms/step - loss: 0.3197 - acc: 0.8937 - val_loss: 0.3914 - val_acc: 0.8588\n",
            "Epoch 5/8\n",
            "254/254 [==============================] - 1s 3ms/step - loss: 0.2775 - acc: 0.8898 - val_loss: 0.3374 - val_acc: 0.8824\n",
            "Epoch 6/8\n",
            "254/254 [==============================] - 1s 3ms/step - loss: 0.2357 - acc: 0.9055 - val_loss: 0.5004 - val_acc: 0.8000\n",
            "Epoch 7/8\n",
            "254/254 [==============================] - 1s 3ms/step - loss: 0.2444 - acc: 0.9094 - val_loss: 0.3979 - val_acc: 0.8471\n",
            "Epoch 8/8\n",
            "254/254 [==============================] - 1s 3ms/step - loss: 0.1860 - acc: 0.9409 - val_loss: 0.3231 - val_acc: 0.8941\n"
          ],
          "name": "stdout"
        }
      ]
    },
    {
      "cell_type": "code",
      "metadata": {
        "id": "7oZ2VhHL0txJ",
        "colab_type": "code",
        "colab": {}
      },
      "source": [
        ""
      ],
      "execution_count": 0,
      "outputs": []
    },
    {
      "cell_type": "code",
      "metadata": {
        "id": "W-NW-UFP0teA",
        "colab_type": "code",
        "colab": {}
      },
      "source": [
        ""
      ],
      "execution_count": 0,
      "outputs": []
    },
    {
      "cell_type": "code",
      "metadata": {
        "id": "14QUjE4brBcl",
        "colab_type": "code",
        "outputId": "0f8c2346-d396-4ba5-d8c0-62065fba8cb0",
        "colab": {
          "base_uri": "https://localhost:8080/",
          "height": 51
        }
      },
      "source": [
        "model.evaluate(test_dataset_array, y_test_one_hot)"
      ],
      "execution_count": 20,
      "outputs": [
        {
          "output_type": "stream",
          "text": [
            "167/167 [==============================] - 0s 402us/step\n"
          ],
          "name": "stdout"
        },
        {
          "output_type": "execute_result",
          "data": {
            "text/plain": [
              "[0.4493717126503676, 0.8323353296982314]"
            ]
          },
          "metadata": {
            "tags": []
          },
          "execution_count": 20
        }
      ]
    },
    {
      "cell_type": "code",
      "metadata": {
        "id": "mPjvvbqHrJcX",
        "colab_type": "code",
        "outputId": "078eb0b1-58db-4ba2-d391-936273a0f3cc",
        "colab": {
          "base_uri": "https://localhost:8080/",
          "height": 295
        }
      },
      "source": [
        "#Visualize the models accuracy\n",
        "plt.plot(hist.history['acc'])\n",
        "plt.plot(hist.history['val_acc'])\n",
        "plt.title('Model accuracy')\n",
        "plt.ylabel('Accuracy')\n",
        "plt.xlabel('Epoch')\n",
        "plt.legend(['Train', 'Val'], loc='upper left')\n",
        "plt.show()"
      ],
      "execution_count": 21,
      "outputs": [
        {
          "output_type": "display_data",
          "data": {
            "image/png": "[encoded data removed]",
            "text/plain": [
              "<Figure size 432x288 with 1 Axes>"
            ]
          },
          "metadata": {
            "tags": []
          }
        }
      ]
    },
    {
      "cell_type": "code",
      "metadata": {
        "id": "BXqn7cmSrnEi",
        "colab_type": "code",
        "colab": {
          "base_uri": "https://localhost:8080/",
          "height": 54
        },
        "outputId": "58a2e274-f9e0-49f8-a15a-3d5607f21a6e"
      },
      "source": [
        "print(hist.history['acc'])"
      ],
      "execution_count": 13,
      "outputs": [
        {
          "output_type": "stream",
          "text": [
            "[0.3622047292787259, 0.4921259879479258, 0.5826771707516017, 0.6771653536267168, 0.7519685076916311, 0.7519685006517125, 0.7755905563437094, 0.814960629217268]\n"
          ],
          "name": "stdout"
        }
      ]
    },
    {
      "cell_type": "code",
      "metadata": {
        "id": "Bv2I7EsjUM9i",
        "colab_type": "code",
        "colab": {
          "base_uri": "https://localhost:8080/",
          "height": 136
        },
        "outputId": "c25cc3d0-930f-4179-cb0f-0af726066423"
      },
      "source": [
        "print(y_train_one_hot)"
      ],
      "execution_count": 14,
      "outputs": [
        {
          "output_type": "stream",
          "text": [
            "[[0. 0. 1.]\n",
            " [0. 1. 0.]\n",
            " [0. 0. 1.]\n",
            " ...\n",
            " [0. 1. 0.]\n",
            " [0. 0. 1.]\n",
            " [0. 0. 1.]]\n"
          ],
          "name": "stdout"
        }
      ]
    },
    {
      "cell_type": "code",
      "metadata": {
        "id": "lNslSVW7b4xj",
        "colab_type": "code",
        "colab": {
          "base_uri": "https://localhost:8080/",
          "height": 34
        },
        "outputId": "a2a6bb75-1f11-428f-dfc5-e30415969274"
      },
      "source": [
        "hist.history.get('acc')[-1]"
      ],
      "execution_count": 15,
      "outputs": [
        {
          "output_type": "execute_result",
          "data": {
            "text/plain": [
              "0.814960629217268"
            ]
          },
          "metadata": {
            "tags": []
          },
          "execution_count": 15
        }
      ]
    },
    {
      "cell_type": "code",
      "metadata": {
        "id": "wd-cnjo3rEsw",
        "colab_type": "code",
        "colab": {}
      },
      "source": [
        "model.save('my_model.h5')"
      ],
      "execution_count": 0,
      "outputs": []
    },
    {
      "cell_type": "code",
      "metadata": {
        "id": "6tluU8l1tSNQ",
        "colab_type": "code",
        "colab": {}
      },
      "source": [
        "!pip install -q pyyaml h5py  # Required to save models in HDF5 forma"
      ],
      "execution_count": 0,
      "outputs": []
    },
    {
      "cell_type": "code",
      "metadata": {
        "id": "j8eNJUFLtWSw",
        "colab_type": "code",
        "colab": {}
      },
      "source": [
        "model.save('my_model.h5')"
      ],
      "execution_count": 0,
      "outputs": []
    },
    {
      "cell_type": "code",
      "metadata": {
        "id": "QWRZNXrl1ROk",
        "colab_type": "code",
        "colab": {}
      },
      "source": [
        "os.chdir('drive/My Drive')"
      ],
      "execution_count": 0,
      "outputs": []
    },
    {
      "cell_type": "code",
      "metadata": {
        "id": "tnOdNj5j2Fsx",
        "colab_type": "code",
        "colab": {}
      },
      "source": [
        "model.save('my_model.h5')"
      ],
      "execution_count": 0,
      "outputs": []
    }
  ]
}
